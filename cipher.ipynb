{
 "cells": [
  {
   "cell_type": "code",
   "execution_count": 284,
   "metadata": {
    "collapsed": false
   },
   "outputs": [],
   "source": [
    "from __future__ import division\n",
    "from collections import Counter\n",
    "from copy import deepcopy\n",
    "from functools import partial\n",
    "import random\n",
    "\n",
    "import string\n",
    "\n",
    "import numpy as np\n",
    "import nltk\n",
    "\n",
    "ALPHABET = string.ascii_lowercase\n",
    "N_LETTERS = len(ALPHABET)\n",
    "N_LETTERS\n",
    "\n",
    "CHARS = string.ascii_lowercase + u' '\n",
    "\n",
    "PUNCTUATION_REMOVER = {ord(c): None for c in string.punctuation + string.digits}\n",
    "PUNCTUATION_REMOVER.update({\n",
    "    ord(u'\\xe6'): None,\n",
    "    ord(u'\\xe8'): None,\n",
    "    ord(u'\\xe9'): None,\n",
    "    ord(u'\\xee'): None,\n",
    "    ord(u'\\x1a'): None\n",
    "})\n",
    "\n",
    "LETTER_TO_INDEX = {unicode(s): i for i, s in enumerate(string.ascii_lowercase + u' ')}"
   ]
  },
  {
   "cell_type": "code",
   "execution_count": 292,
   "metadata": {
    "collapsed": false
   },
   "outputs": [
    {
     "name": "stdout",
     "output_type": "stream",
     "text": [
      " toovhnvmok\n",
      "hello world\n"
     ]
    }
   ],
   "source": [
    "def clean(s):\n",
    "    return \" \".join(s.translate(PUNCTUATION_REMOVER).lower().split())\n",
    "\n",
    "class Cipher(object):\n",
    "    chars = unicode(string.ascii_lowercase + ' ')\n",
    "    ords = tuple(ord(c) for c in chars)\n",
    "    \n",
    "    def __init__(self, encoder):\n",
    "        self._encoder = {ord(k): ord(v) for k, v in encoder.iteritems()}\n",
    "        self._decoder = {ord(v): ord(k) for k, v in encoder.iteritems()}\n",
    "        \n",
    "    @classmethod\n",
    "    def get_random_cipher(cls):\n",
    "        c = Cipher({c: c for c in cls.chars})\n",
    "        return c.mutate_key(27)\n",
    "    \n",
    "    @property\n",
    "    def encoder(self):\n",
    "        return deepcopy(self._encoder)\n",
    "    \n",
    "    @property\n",
    "    def decoder(self):\n",
    "        return deepcopy(self._decoder)\n",
    "    \n",
    "    def encipher(self, msg):\n",
    "        msg = clean(unicode(msg))\n",
    "        return msg.translate(self._encoder)\n",
    "    \n",
    "    def decipher(self, msg):\n",
    "        return msg.translate(self._decoder)\n",
    "    \n",
    "    def mutate_key(self, n_swaps):\n",
    "        to_swap = random.sample(self.ords, n_swaps)\n",
    "        candidates = [self.encoder[c] for c in to_swap]\n",
    "        random.shuffle(candidates)\n",
    "        self._encoder.update(dict(zip(to_swap, candidates)))\n",
    "        self._decoder = {v: k for k, v in self._encoder.iteritems()}\n",
    "        return self\n",
    "        \n",
    "c = Cipher.get_random_cipher()\n",
    "print c.encipher('hello world')\n",
    "print c.decipher(c.encipher('hello world'))"
   ]
  },
  {
   "cell_type": "code",
   "execution_count": 294,
   "metadata": {
    "collapsed": false
   },
   "outputs": [],
   "source": [
    "corpus = \" \".join(clean(nltk.corpus.gutenberg.raw()).lower().split())\n",
    "with open('gutenberg.txt', 'w') as f:\n",
    "    f.write(corpus)"
   ]
  },
  {
   "cell_type": "code",
   "execution_count": 295,
   "metadata": {
    "collapsed": false
   },
   "outputs": [
    {
     "data": {
      "text/plain": [
       "Counter({u' ': 2102545,\n",
       "         u'a': 731203,\n",
       "         u'b': 139846,\n",
       "         u'c': 185849,\n",
       "         u'd': 400494,\n",
       "         u'e': 1119617,\n",
       "         u'f': 209239,\n",
       "         u'g': 172048,\n",
       "         u'h': 650743,\n",
       "         u'i': 577691,\n",
       "         u'j': 15946,\n",
       "         u'k': 66676,\n",
       "         u'l': 375313,\n",
       "         u'm': 230032,\n",
       "         u'n': 615091,\n",
       "         u'o': 678136,\n",
       "         u'p': 136173,\n",
       "         u'q': 7552,\n",
       "         u'r': 502402,\n",
       "         u's': 556863,\n",
       "         u't': 827161,\n",
       "         u'u': 252211,\n",
       "         u'v': 83829,\n",
       "         u'w': 201292,\n",
       "         u'x': 9160,\n",
       "         u'y': 176040,\n",
       "         u'z': 5525})"
      ]
     },
     "execution_count": 295,
     "metadata": {},
     "output_type": "execute_result"
    }
   ],
   "source": [
    "letter_counts = Counter(corpus)\n",
    "letters = sorted(letter_counts.keys())\n",
    "n_letters = len(letters)\n",
    "letter_counts"
   ]
  },
  {
   "cell_type": "code",
   "execution_count": 293,
   "metadata": {
    "collapsed": false
   },
   "outputs": [],
   "source": [
    "init_letter_probs = np.array([letter_counts[l] for l in letters])\n",
    "init_letter_probs = np.log(init_letter_probs / init_letter_probs.sum())\n",
    "\n",
    "def get_trans(n_elements, element_to_index, corpus, order=1, smoothing_factor=1):\n",
    "    \"\"\"\n",
    "    Returns a matrix of log transition probabilities, T, where T[ix] is the \n",
    "    conditional probability of seeing element ix[-1] after sequence ix[:-1]\n",
    "    \"\"\"\n",
    "    trans = np.ones((n_elements,)*(1 + order)) * smoothing_factor \n",
    "    \n",
    "    for i in xrange(len(corpus) - order):\n",
    "        ix = tuple(element_to_index[e] for e in corpus[i: i + order + 1])\n",
    "        trans[ix] += 1\n",
    "\n",
    "    return np.log(trans / trans.sum(axis=1, keepdims=True))\n"
   ]
  },
  {
   "cell_type": "code",
   "execution_count": 197,
   "metadata": {
    "collapsed": true
   },
   "outputs": [],
   "source": [
    "def get_likelihood(message, init_probs, trans_probs, element_to_index):\n",
    "    \"\"\"\n",
    "    Returns the likelihood of a given message according\n",
    "    to probabilities init_probs and trans_probs, where element_to_index\n",
    "    converts from characters (or words if message is a list of words) to \n",
    "    array indicies.\n",
    "    \"\"\"\n",
    "    order = trans_probs.ndim - 1\n",
    "    prob = 0\n",
    "    for i in xrange(len(message)):\n",
    "        if i < order:\n",
    "            prob += init_probs[element_to_index[message[i]]] \n",
    "        else: \n",
    "            ix = tuple(element_to_index[e] for e in message[i - order: i + 1])\n",
    "            prob += trans_probs[ix]\n",
    "    return prob"
   ]
  },
  {
   "cell_type": "code",
   "execution_count": 208,
   "metadata": {
    "collapsed": false
   },
   "outputs": [
    {
     "data": {
      "text/plain": [
       "-8.4732328719145915"
      ]
     },
     "execution_count": 208,
     "metadata": {},
     "output_type": "execute_result"
    }
   ],
   "source": [
    "get_likelihood('cat', init_letter_probs, letter_trans_probs, LETTER_TO_INDEX)"
   ]
  }
 ],
 "metadata": {
  "kernelspec": {
   "display_name": "Python 2",
   "language": "python",
   "name": "python2"
  },
  "language_info": {
   "codemirror_mode": {
    "name": "ipython",
    "version": 2
   },
   "file_extension": ".py",
   "mimetype": "text/x-python",
   "name": "python",
   "nbconvert_exporter": "python",
   "pygments_lexer": "ipython2",
   "version": "2.7.11"
  }
 },
 "nbformat": 4,
 "nbformat_minor": 0
}
